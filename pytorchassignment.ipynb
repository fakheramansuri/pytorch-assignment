{
  "nbformat": 4,
  "nbformat_minor": 0,
  "metadata": {
    "colab": {
      "provenance": []
    },
    "kernelspec": {
      "name": "python3",
      "display_name": "Python 3"
    },
    "language_info": {
      "name": "python"
    }
  },
  "cells": [
    {
      "cell_type": "code",
      "execution_count": 20,
      "metadata": {
        "id": "R1bXW1Dl8BVY"
      },
      "outputs": [],
      "source": [
        "import torch\n",
        "import torch.nn as nn\n",
        "import torch.optim as optim\n",
        "import numpy as np\n",
        "from sklearn.datasets import load_iris\n",
        "from sklearn.model_selection import train_test_split\n",
        "from sklearn.preprocessing import StandardScaler\n",
        "from sklearn.metrics import accuracy_score\n",
        "from torch.utils.data import DataLoader, TensorDataset"
      ]
    },
    {
      "cell_type": "code",
      "source": [
        "iris = load_iris()\n",
        "X = iris.data\n",
        "y = iris.target\n"
      ],
      "metadata": {
        "id": "zXqAqb1W8EsN"
      },
      "execution_count": 3,
      "outputs": []
    },
    {
      "cell_type": "code",
      "source": [
        "X_train, X_test, y_train, y_test = train_test_split(X, y, test_size=0.2, random_state=42)"
      ],
      "metadata": {
        "id": "Dr_gThpY8Ezg"
      },
      "execution_count": 4,
      "outputs": []
    },
    {
      "cell_type": "code",
      "source": [
        "scaler = StandardScaler()\n",
        "X_train = scaler.fit_transform(X_train)\n",
        "X_test = scaler.transform(X_test)\n"
      ],
      "metadata": {
        "id": "UDQ4_Vmx8E13"
      },
      "execution_count": 5,
      "outputs": []
    },
    {
      "cell_type": "code",
      "source": [
        "X_train_tensor = torch.tensor(X_train, dtype=torch.float32)\n",
        "y_train_tensor = torch.tensor(y_train, dtype=torch.long)\n",
        "X_test_tensor = torch.tensor(X_test, dtype=torch.float32)\n",
        "y_test_tensor = torch.tensor(y_test, dtype=torch.long)"
      ],
      "metadata": {
        "id": "Aiv726aK8mXS"
      },
      "execution_count": 6,
      "outputs": []
    },
    {
      "cell_type": "code",
      "source": [
        "train_dataset = TensorDataset(X_train_tensor, y_train_tensor)\n",
        "train_dataloader = DataLoader(train_dataset, batch_size=16, shuffle=True)"
      ],
      "metadata": {
        "id": "FoKiwwoKB1kC"
      },
      "execution_count": 21,
      "outputs": []
    },
    {
      "cell_type": "code",
      "source": [
        "class SimpleNN(nn.Module):\n",
        "    def __init__(self):\n",
        "        super(SimpleNN, self).__init__()\n",
        "        self.fc1 = nn.Linear(4, 8)  # 4 input features, 8 neurons in the hidden layer\n",
        "        self.relu = nn.ReLU()\n",
        "        self.fc2 = nn.Linear(8, 3)  # 3 output classes\n",
        "\n",
        "    def forward(self, x):\n",
        "        out = self.fc1(x)\n",
        "        out = self.relu(out)\n",
        "        out = self.fc2(out)\n",
        "        return out"
      ],
      "metadata": {
        "id": "EO6GHXIMB1nb"
      },
      "execution_count": 22,
      "outputs": []
    },
    {
      "cell_type": "code",
      "source": [
        "model = SimpleNN()"
      ],
      "metadata": {
        "id": "iA2PZccVB1qX"
      },
      "execution_count": 23,
      "outputs": []
    },
    {
      "cell_type": "code",
      "source": [
        "criterion = nn.CrossEntropyLoss()\n",
        "optimizer = optim.Adam(model.parameters(), lr=0.001)\n"
      ],
      "metadata": {
        "id": "bfNVDToeCjDe"
      },
      "execution_count": 24,
      "outputs": []
    },
    {
      "cell_type": "code",
      "source": [
        "num_epochs = 100\n",
        "for epoch in range(num_epochs):\n",
        "    for inputs, labels in train_dataloader:\n",
        "        optimizer.zero_grad()\n",
        "        outputs = model(inputs)\n",
        "        loss = criterion(outputs, labels)\n",
        "        loss.backward()\n",
        "        optimizer.step()\n",
        "    print(f'Epoch [{epoch+1}/{num_epochs}], Loss: {loss.item():.4f}')"
      ],
      "metadata": {
        "colab": {
          "base_uri": "https://localhost:8080/"
        },
        "id": "Y6xiq2X7CjGM",
        "outputId": "1808ba2d-52db-4260-d0ce-c431153debb2"
      },
      "execution_count": 25,
      "outputs": [
        {
          "output_type": "stream",
          "name": "stdout",
          "text": [
            "Epoch [1/100], Loss: 1.1248\n",
            "Epoch [2/100], Loss: 1.0311\n",
            "Epoch [3/100], Loss: 1.0884\n",
            "Epoch [4/100], Loss: 1.0738\n",
            "Epoch [5/100], Loss: 1.0960\n",
            "Epoch [6/100], Loss: 1.0356\n",
            "Epoch [7/100], Loss: 1.0359\n",
            "Epoch [8/100], Loss: 0.9727\n",
            "Epoch [9/100], Loss: 0.9928\n",
            "Epoch [10/100], Loss: 1.0071\n",
            "Epoch [11/100], Loss: 0.9657\n",
            "Epoch [12/100], Loss: 0.9792\n",
            "Epoch [13/100], Loss: 0.9038\n",
            "Epoch [14/100], Loss: 0.7877\n",
            "Epoch [15/100], Loss: 0.8583\n",
            "Epoch [16/100], Loss: 0.7926\n",
            "Epoch [17/100], Loss: 0.7094\n",
            "Epoch [18/100], Loss: 0.6994\n",
            "Epoch [19/100], Loss: 0.6169\n",
            "Epoch [20/100], Loss: 0.6304\n",
            "Epoch [21/100], Loss: 0.6572\n",
            "Epoch [22/100], Loss: 0.7885\n",
            "Epoch [23/100], Loss: 0.7058\n",
            "Epoch [24/100], Loss: 0.5590\n",
            "Epoch [25/100], Loss: 0.3235\n",
            "Epoch [26/100], Loss: 0.5606\n",
            "Epoch [27/100], Loss: 0.6624\n",
            "Epoch [28/100], Loss: 0.4599\n",
            "Epoch [29/100], Loss: 0.5656\n",
            "Epoch [30/100], Loss: 0.5481\n",
            "Epoch [31/100], Loss: 0.4479\n",
            "Epoch [32/100], Loss: 0.5354\n",
            "Epoch [33/100], Loss: 0.6118\n",
            "Epoch [34/100], Loss: 0.4193\n",
            "Epoch [35/100], Loss: 0.6489\n",
            "Epoch [36/100], Loss: 0.4092\n",
            "Epoch [37/100], Loss: 0.2941\n",
            "Epoch [38/100], Loss: 0.5003\n",
            "Epoch [39/100], Loss: 0.3334\n",
            "Epoch [40/100], Loss: 0.5073\n",
            "Epoch [41/100], Loss: 0.1926\n",
            "Epoch [42/100], Loss: 0.4434\n",
            "Epoch [43/100], Loss: 0.2258\n",
            "Epoch [44/100], Loss: 0.5314\n",
            "Epoch [45/100], Loss: 0.3790\n",
            "Epoch [46/100], Loss: 0.2669\n",
            "Epoch [47/100], Loss: 0.3044\n",
            "Epoch [48/100], Loss: 0.3193\n",
            "Epoch [49/100], Loss: 0.2993\n",
            "Epoch [50/100], Loss: 0.4080\n",
            "Epoch [51/100], Loss: 0.3250\n",
            "Epoch [52/100], Loss: 0.2221\n",
            "Epoch [53/100], Loss: 0.3652\n",
            "Epoch [54/100], Loss: 0.2211\n",
            "Epoch [55/100], Loss: 0.3643\n",
            "Epoch [56/100], Loss: 0.3394\n",
            "Epoch [57/100], Loss: 0.3123\n",
            "Epoch [58/100], Loss: 0.2389\n",
            "Epoch [59/100], Loss: 0.1683\n",
            "Epoch [60/100], Loss: 0.2102\n",
            "Epoch [61/100], Loss: 0.4525\n",
            "Epoch [62/100], Loss: 0.3295\n",
            "Epoch [63/100], Loss: 0.1370\n",
            "Epoch [64/100], Loss: 0.3232\n",
            "Epoch [65/100], Loss: 0.3600\n",
            "Epoch [66/100], Loss: 0.1700\n",
            "Epoch [67/100], Loss: 0.2805\n",
            "Epoch [68/100], Loss: 0.3364\n",
            "Epoch [69/100], Loss: 0.3025\n",
            "Epoch [70/100], Loss: 0.4369\n",
            "Epoch [71/100], Loss: 0.1435\n",
            "Epoch [72/100], Loss: 0.3884\n",
            "Epoch [73/100], Loss: 0.1935\n",
            "Epoch [74/100], Loss: 0.1708\n",
            "Epoch [75/100], Loss: 0.1278\n",
            "Epoch [76/100], Loss: 0.2758\n",
            "Epoch [77/100], Loss: 0.1649\n",
            "Epoch [78/100], Loss: 0.1253\n",
            "Epoch [79/100], Loss: 0.1951\n",
            "Epoch [80/100], Loss: 0.2404\n",
            "Epoch [81/100], Loss: 0.2256\n",
            "Epoch [82/100], Loss: 0.2814\n",
            "Epoch [83/100], Loss: 0.2228\n",
            "Epoch [84/100], Loss: 0.2664\n",
            "Epoch [85/100], Loss: 0.2732\n",
            "Epoch [86/100], Loss: 0.3775\n",
            "Epoch [87/100], Loss: 0.1341\n",
            "Epoch [88/100], Loss: 0.2049\n",
            "Epoch [89/100], Loss: 0.0943\n",
            "Epoch [90/100], Loss: 0.2170\n",
            "Epoch [91/100], Loss: 0.2301\n",
            "Epoch [92/100], Loss: 0.2248\n",
            "Epoch [93/100], Loss: 0.1825\n",
            "Epoch [94/100], Loss: 0.3012\n",
            "Epoch [95/100], Loss: 0.2756\n",
            "Epoch [96/100], Loss: 0.1916\n",
            "Epoch [97/100], Loss: 0.3238\n",
            "Epoch [98/100], Loss: 0.1933\n",
            "Epoch [99/100], Loss: 0.2769\n",
            "Epoch [100/100], Loss: 0.1485\n"
          ]
        }
      ]
    },
    {
      "cell_type": "code",
      "source": [
        "with torch.no_grad():\n",
        "    model.eval()\n",
        "    outputs = model(X_test_tensor)\n",
        "    _, predicted = torch.max(outputs, 1)\n",
        "    accuracy = (predicted == y_test_tensor).sum().item() / y_test_tensor.size(0)\n",
        "    print(f'Test Accuracy: {accuracy:.4f}')"
      ],
      "metadata": {
        "colab": {
          "base_uri": "https://localhost:8080/"
        },
        "id": "rYdmFVPYCjLI",
        "outputId": "2a444572-030b-4df6-9fc5-a46e061dfb12"
      },
      "execution_count": 26,
      "outputs": [
        {
          "output_type": "stream",
          "name": "stdout",
          "text": [
            "Test Accuracy: 1.0000\n"
          ]
        }
      ]
    }
  ]
}